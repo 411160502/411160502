{
  "nbformat": 4,
  "nbformat_minor": 0,
  "metadata": {
    "colab": {
      "provenance": [],
      "authorship_tag": "ABX9TyO/v25q19FARp4gghY/51IV",
      "include_colab_link": true
    },
    "kernelspec": {
      "name": "python3",
      "display_name": "Python 3"
    },
    "language_info": {
      "name": "python"
    }
  },
  "cells": [
    {
      "cell_type": "markdown",
      "metadata": {
        "id": "view-in-github",
        "colab_type": "text"
      },
      "source": [
        "<a href=\"https://colab.research.google.com/github/411160502/411160502/blob/main/%E8%A8%88%E7%AE%97%E7%B4%AF%E7%A9%8D%E6%95%B8%E5%AD%97.ipynb\" target=\"_parent\"><img src=\"https://colab.research.google.com/assets/colab-badge.svg\" alt=\"Open In Colab\"/></a>"
      ]
    },
    {
      "cell_type": "code",
      "execution_count": 4,
      "metadata": {
        "id": "jBPitqCdmDXP"
      },
      "outputs": [],
      "source": [
        "Q4=28347871\n",
        "Q3=27002293\n",
        "Q2=27668242\n",
        "Q1=26295929"
      ]
    },
    {
      "cell_type": "code",
      "source": [
        "Acc_Q1 = Q1\n",
        "Acc_Q2 = Q1+Q2\n",
        "Acc_Q3 = Q1+Q2+Q3\n",
        "Acc_Q4 = Q1+Q2+Q3+Q4\n",
        "print(Acc_Q1)\n",
        "print(Acc_Q2)\n",
        "print(Acc_Q3)\n",
        "print(Acc_Q4)"
      ],
      "metadata": {
        "colab": {
          "base_uri": "https://localhost:8080/"
        },
        "id": "395lJDqetVGj",
        "outputId": "3c0bb8cd-0558-4e43-82d1-723c227adbfc"
      },
      "execution_count": 5,
      "outputs": [
        {
          "output_type": "stream",
          "name": "stdout",
          "text": [
            "26295929\n",
            "53964171\n",
            "80966464\n",
            "109314335\n"
          ]
        }
      ]
    }
  ]
}